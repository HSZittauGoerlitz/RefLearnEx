{
 "cells": [
  {
   "cell_type": "code",
   "execution_count": null,
   "metadata": {},
   "outputs": [],
   "source": [
    "# Imports\n",
    "import ipywidgets as widgets\n",
    "import threading\n",
    "from Trainer import DQNtrainer\n",
    "from System import System"
   ]
  },
  {
   "cell_type": "markdown",
   "metadata": {},
   "source": [
    "# Test-System"
   ]
  },
  {
   "cell_type": "markdown",
   "metadata": {},
   "source": [
    "## Systemaufbau\n",
    "\n",
    "Das Test-System besteht aus einer nichtlinearen Regelstrecke (PT1-Glied). Deren Ausgang wird durch eine Störung (ebenfalls verzögert durch ein PT1-Glied) beeinflusst. Geregelt werden soll die Ausgangsgröße $y$ des Gesamtsystems. Die relevanten Übertragungsfunktionen lauten:\n",
    "\n",
    "$$ F_S = \\frac{y_S}{u_S}= \\frac{K(y_S)}{1 + T_Sp} $$\n",
    "$$ F_Z = \\frac{y_Z}{u_Z} = \\frac{1}{1 + 10T_Sp} $$\n",
    "mit\n",
    "\\begin{align}\n",
    "    K(y_S) &= 0.1\\cdot y_S + 2 \\\\\n",
    "    -5 &\\leq u_S \\leq 5 \\\\\n",
    "    -2 &\\leq u_Z \\leq 2 \\\\\n",
    "    y &= y_S + y_Z \\\\\n",
    "    -8.5 &\\leq y \\leq 21.5\n",
    "\\end{align}\n",
    "\n",
    "Folgende größen werden als messbar angenommen:\n",
    "- $y$\n",
    "- $y_S$\n",
    "- $u_S$\n",
    "- $u_Z$\n",
    "\n",
    "<img src=\"../SFB.png\" alt=\"Signalflussbild des Gesamtsystems\" title=\"Signalflussbild des Gesamtsystems\" />\n",
    "\n",
    "### Herleitung der Solver-Gleichung\n",
    "Z-Transformation der Übertragungsfunktion für PT1-Glieder:\n",
    "\\begin{align}\n",
    "    F(p) = \\frac{y}{u}= \\frac{K}{1 + T\\cdot p} \\\\\n",
    "    F(z) = \\frac{y_k}{u_k} = K \\cdot \\frac{1-a}{z-a}\n",
    "\\end{align}\n",
    "mit\n",
    "$$a = e^{-\\frac{dt}{T}}$$\n",
    "\n",
    "Auflösen nach $y_k$:\n",
    "\\begin{align}\n",
    "    F(z) = \\frac{y_k}{u_k} &= \\frac{K-Ka}{z-a} \\\\\n",
    "    y_k \\cdot (z - a) &= u_k \\cdot (K - Ka) \\\\\n",
    "    y_{k+1} - ay_k  &= u_k \\cdot (K - Ka) \\\\\n",
    "    y_{k+1} - ay_k  &= u_k \\cdot (K - Ka) \\\\\n",
    "    y_{k+1} &= u_k \\cdot (K - Ka) + ay_k\n",
    "\\end{align}"
   ]
  },
  {
   "cell_type": "code",
   "execution_count": null,
   "metadata": {},
   "outputs": [],
   "source": [
    "# Prepare test system\n",
    "system = System(0.0)"
   ]
  },
  {
   "cell_type": "markdown",
   "metadata": {},
   "source": [
    "# Regler\n",
    "Der selbstlernende Regler wird mittels Deep-Q-Learning Realisiert. Die Implementierung erfolgt in Anlehnung an das DQN Tutorial von pytorch sowie an das entsprechende DeepMind Paper (Lernen von Atari Spielen). Das DQN verfahren ist anders als NFQ lernen ein online Verfahren. Es scheint die Weiterentwicklung des NFQ Verfahrens zu sein und zielt auf eine bessere konvergenz der zu trainierenden Modelle ab. Diese ist insbesondere bei großen KNN von Bedeutung. Daher wurde von DeepMind das Bsp. Atari-Spiele gewählt. Wobei der Input die Pixel-Daten der Spielegrafik waren und entsprechende Faltungsschichten selbstständig die wesentlichen merkmale bestimmen mussten. Da zeitlich korellierte Daten schlecht für das Training sind, werden eine Vielzahl an Datensätzen in einem Speicher (Replay-Memory) abgelegt. Zu jedem Prozessschritt werden eine kleine Anzahl an zufälligen Datenpunkten aus dem Speicher gezogen und das Modell trainiert. Dabei wird das Modell doppelt verwendet. Einmal als in jedem Schritt trainiertes und für die Handlungen konsultierte Modell. Das andere soll Q-werte, welche für das Training als Referenzwerte dienen, vorhersagen. Letzteres wird nur zu wenigen Schritten verbessert. Dabei werden die aktuellen Parameter (Gewichte, etc.) des anderen Modells kopiert.\n",
    "\n",
    "Ein System-Zustand ist durch die Messbaren signale gekennzeichnet: $w, y, y_S, u_S, u_Z$"
   ]
  },
  {
   "cell_type": "markdown",
   "metadata": {},
   "source": [
    "## Agent mit Erfahrungsspeicher und -modell"
   ]
  },
  {
   "cell_type": "code",
   "execution_count": null,
   "metadata": {},
   "outputs": [],
   "source": [
    "# hyper parameter\n",
    "nBatch = 100\n",
    "batchSize = 32\n",
    "probW = 0.5 # probability for change of set point\n",
    "\n",
    "memCapacity = 320000\n",
    "\n",
    "eps0 = 1.\n",
    "epsDecay = 500\n",
    "epsMin = 0.0\n",
    "\n",
    "targetUpdate = 250  # rate of epochs for updating target model\n",
    "\n",
    "# max cost per action\n",
    "cMax = 0.1\n",
    "mu = 0.5  # target range for cost function\n",
    "\n",
    "# init trainer with agent\n",
    "trainer = DQNtrainer(nBatch, batchSize, targetUpdate,\n",
    "                     eps0, epsMin, epsDecay, cMax, mu, system,\n",
    "                     memCapacity)\n"
   ]
  },
  {
   "cell_type": "code",
   "execution_count": null,
   "metadata": {},
   "outputs": [],
   "source": [
    "# Control Elements\n",
    "btnRun = widgets.Button(description=\"Run\")\n",
    "btnRun.state = False\n",
    "btnEnd = widgets.Button(description=\"End\")\n",
    "btnEnd.state = True\n",
    "btnStep = widgets.Button(description=\"Step\")\n",
    "btnStep.state = False\n",
    "btnReset = widgets.Button(description=\"Reset\")\n",
    "btnReset.state = False\n",
    "\n",
    "def btnRun_click(btn):\n",
    "    if btn.state:\n",
    "        btn.state = False\n",
    "        btn.description = \"Run\"\n",
    "    else:\n",
    "        btn.state = True\n",
    "        btn.description = \"Pause\"\n",
    "\n",
    "def btn_click(btn):\n",
    "    btn.state = not btn.state\n",
    "\n",
    "btnRun.on_click(btnRun_click)\n",
    "btnEnd.on_click(btn_click)\n",
    "btnStep.on_click(btn_click)\n",
    "btnReset.on_click(btn_click)\n"
   ]
  },
  {
   "cell_type": "markdown",
   "metadata": {},
   "source": [
    "## Training"
   ]
  },
  {
   "cell_type": "code",
   "execution_count": null,
   "metadata": {},
   "outputs": [],
   "source": [
    "buttons = widgets.HBox([btnRun, btnStep, btnReset, btnEnd])\n",
    "display(widgets.VBox([buttons, trainer.batchVis, trainer.trainVis]))\n",
    "thread = threading.Thread(target=trainer.train, args=(system, btnRun, btnStep, \n",
    "                                                      btnEnd, btnReset,))\n",
    "thread.start()"
   ]
  },
  {
   "cell_type": "code",
   "execution_count": null,
   "metadata": {},
   "outputs": [],
   "source": []
  }
 ],
 "metadata": {
  "kernelspec": {
   "display_name": "Python 3.9.13 ('AI')",
   "language": "python",
   "name": "python3"
  },
  "language_info": {
   "codemirror_mode": {
    "name": "ipython",
    "version": 3
   },
   "file_extension": ".py",
   "mimetype": "text/x-python",
   "name": "python",
   "nbconvert_exporter": "python",
   "pygments_lexer": "ipython3",
   "version": "3.9.13"
  },
  "vscode": {
   "interpreter": {
    "hash": "de5673f08cc042fd69b2464ab01c30abd62c4f4f16485517573956c9832f4ccd"
   }
  }
 },
 "nbformat": 4,
 "nbformat_minor": 4
}
